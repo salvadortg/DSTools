{
 "cells": [
  {
   "cell_type": "markdown",
   "id": "9a0e19c6-63db-4d03-8f43-d258ae57646a",
   "metadata": {},
   "source": [
    "# Data Science Tools and Ecosystem"
   ]
  },
  {
   "cell_type": "markdown",
   "id": "7be388e7-c9c1-4ba1-8134-0168aaadba7f",
   "metadata": {},
   "source": [
    "Some of the most popular languages that Data Scientists use are:\n",
    "* Python\n",
    "* R\n",
    "* Scala\n",
    "* Julia\n",
    "* Java\n",
    "* C++\n",
    "* Ruby "
   ]
  },
  {
   "cell_type": "markdown",
   "id": "ee20e4ae-1aff-4c9d-84e4-a03133459298",
   "metadata": {},
   "source": [
    "In this Jupyter notebook, Data Science Tools and Ecosystem are summarized."
   ]
  },
  {
   "cell_type": "markdown",
   "id": "7759361b-708c-4a8b-8a90-d935584790ab",
   "metadata": {},
   "source": [
    "**Objectives:**\n",
    "* Libraries used in Data Science.\n",
    "* Data Integration and Transformation open-source tools.\n",
    "* Basic evaluation of arithmetic expressions."
   ]
  },
  {
   "cell_type": "markdown",
   "id": "c5be9c31-0e5b-4db1-b72c-68edac80efab",
   "metadata": {
    "jp-MarkdownHeadingCollapsed": true
   },
   "source": [
    "Some of the commonly used libraries used by Data Scientists include:\n",
    "#### For Python\n",
    "* Scientific Computing Libraries\n",
    "  1. Pandas\n",
    "  2. Numpy\n",
    "* Visualization Libraries\n",
    "  1. Matplotlib\n",
    "  2. Seaborn\n",
    "* High-Level Machine Learning and Deep Learning\n",
    "  1. Scikit-learn\n",
    "  2. Keras\n",
    "* Deep Learning\n",
    "  1. TensorFlow\n",
    "  2. Pytorch\n",
    "  "
   ]
  },
  {
   "cell_type": "markdown",
   "id": "04d980ef-335b-41ff-b13b-e886d430a9ae",
   "metadata": {},
   "source": [
    "#### Some of the most used open-source tools for Data Integration and Transformation in Data Science are:\n",
    "\n",
    "| Data Science Tools |\n",
    "|-------------------|\n",
    "| Apache AirFlow |\n",
    "| Kube Flow |\n",
    "| Apache Kafka |\n",
    "| Apache NiFi |\n",
    "| Apache SparkSQL |\n",
    "| NodeRED |"
   ]
  },
  {
   "cell_type": "markdown",
   "id": "162ab647-5206-41e2-a762-560a1a5c3a31",
   "metadata": {},
   "source": [
    "### Below are a few examples of evaluating arithmetic expressions in Python.\n",
    "This is a simple arithmetic expression to multiply then add integers."
   ]
  },
  {
   "cell_type": "code",
   "execution_count": 12,
   "id": "b506e5cc-24c6-45b6-8898-7293003deb82",
   "metadata": {},
   "outputs": [
    {
     "name": "stdout",
     "output_type": "stream",
     "text": [
      "17\n"
     ]
    }
   ],
   "source": [
    "print((3*4)+5)"
   ]
  },
  {
   "cell_type": "markdown",
   "id": "42564400-4a4d-43f4-81d5-7dfe82cff372",
   "metadata": {},
   "source": [
    "This will convert 200 minutes to hours by dividing by 60."
   ]
  },
  {
   "cell_type": "code",
   "execution_count": 14,
   "id": "acf191b3-65dc-47d7-9af6-b3051ffbe5da",
   "metadata": {},
   "outputs": [
    {
     "name": "stdout",
     "output_type": "stream",
     "text": [
      "3.3333333333333335\n"
     ]
    }
   ],
   "source": [
    "print(200/60)"
   ]
  },
  {
   "cell_type": "markdown",
   "id": "cbbd3d4b-d692-46f7-a46f-2b8234e1087b",
   "metadata": {},
   "source": [
    "## Author\n",
    "Salvador Ortega."
   ]
  },
  {
   "cell_type": "code",
   "execution_count": null,
   "id": "8f033dbb-b058-4b30-9e81-ba49a92d5a8d",
   "metadata": {},
   "outputs": [],
   "source": []
  }
 ],
 "metadata": {
  "kernelspec": {
   "display_name": "Python 3 (ipykernel)",
   "language": "python",
   "name": "python3"
  },
  "language_info": {
   "codemirror_mode": {
    "name": "ipython",
    "version": 3
   },
   "file_extension": ".py",
   "mimetype": "text/x-python",
   "name": "python",
   "nbconvert_exporter": "python",
   "pygments_lexer": "ipython3",
   "version": "3.12.7"
  }
 },
 "nbformat": 4,
 "nbformat_minor": 5
}
